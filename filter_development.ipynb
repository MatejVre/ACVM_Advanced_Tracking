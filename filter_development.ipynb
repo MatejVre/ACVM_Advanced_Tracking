{
 "cells": [
  {
   "cell_type": "code",
   "execution_count": 1,
   "id": "a5bb87f0",
   "metadata": {},
   "outputs": [],
   "source": [
    "import numpy as np\n",
    "import cv2\n",
    "import matplotlib.pyplot as plt\n",
    "import math\n",
    "from ex4_utils import *\n",
    "import sympy as sp"
   ]
  },
  {
   "cell_type": "code",
   "execution_count": 2,
   "id": "96b57768",
   "metadata": {},
   "outputs": [],
   "source": [
    "def NCV():\n",
    "    T, q = sp.symbols(\"T, q\")\n",
    "    F = sp.Matrix([[0,0,1,0],\n",
    "                [0,0,0,1],\n",
    "                [0,0,0,0],\n",
    "                [0,0,0,0]])\n",
    "\n",
    "    AS = sp.exp(F*T)\n",
    "    LS = sp.Matrix([[0,0],\n",
    "                [0,0],\n",
    "                [1,0],\n",
    "                [0,1]])\n",
    "    Q_iS = sp.integrate((AS*LS)*q*(AS*LS).T, (T, 0, T))\n",
    "\n",
    "    CS = sp.Matrix([[1, 0, 0, 0],\n",
    "                [0, 1, 0, 0]])\n",
    "\n",
    "    r = sp.symbols(\"r\")\n",
    "    R_iS = sp.Matrix([[r, 0],\n",
    "                    [0, r]])\n",
    "    \n",
    "    return T, q, r, AS, LS, Q_iS, CS, R_iS\n"
   ]
  },
  {
   "cell_type": "code",
   "execution_count": null,
   "id": "ba896f79",
   "metadata": {},
   "outputs": [
    {
     "ename": "ValueError",
     "evalue": "The weights and list don't have the same length.",
     "output_type": "error",
     "traceback": [
      "\u001b[31m---------------------------------------------------------------------------\u001b[39m",
      "\u001b[31mValueError\u001b[39m                                Traceback (most recent call last)",
      "\u001b[36mCell\u001b[39m\u001b[36m \u001b[39m\u001b[32mIn[10]\u001b[39m\u001b[32m, line 25\u001b[39m\n\u001b[32m     23\u001b[39m epanechnik_kernel = create_epanechnik_kernel(region_width, region_height, \u001b[32m1\u001b[39m)\n\u001b[32m     24\u001b[39m patch, mask = get_patch(im, (x, y), (target_width, target_height))\n\u001b[32m---> \u001b[39m\u001b[32m25\u001b[39m h_tar = \u001b[43mextract_histogram\u001b[49m\u001b[43m(\u001b[49m\u001b[43mpatch\u001b[49m\u001b[43m,\u001b[49m\u001b[43m \u001b[49m\u001b[32;43m16\u001b[39;49m\u001b[43m,\u001b[49m\u001b[43m \u001b[49m\u001b[43mepanechnik_kernel\u001b[49m\u001b[43m)\u001b[49m\n\u001b[32m     27\u001b[39m T_val = \u001b[32m1\u001b[39m  \u001b[38;5;66;03m# time step\u001b[39;00m\n\u001b[32m     28\u001b[39m q_val = \u001b[32m150.0\u001b[39m\n",
      "\u001b[36mFile \u001b[39m\u001b[32mc:\\Users\\matej\\Desktop\\MAG\\Advanced_Topics_in_Computer_Vision\\Project_4\\ex4_utils.py:90\u001b[39m, in \u001b[36mextract_histogram\u001b[39m\u001b[34m(patch, nbins, weights)\u001b[39m\n\u001b[32m     88\u001b[39m \u001b[38;5;66;03m# count bin indices to create histogram (use per-pixel weights if given)\u001b[39;00m\n\u001b[32m     89\u001b[39m \u001b[38;5;28;01mif\u001b[39;00m weights \u001b[38;5;129;01mis\u001b[39;00m \u001b[38;5;129;01mnot\u001b[39;00m \u001b[38;5;28;01mNone\u001b[39;00m:\n\u001b[32m---> \u001b[39m\u001b[32m90\u001b[39m     histogram_ = \u001b[43mnp\u001b[49m\u001b[43m.\u001b[49m\u001b[43mbincount\u001b[49m\u001b[43m(\u001b[49m\u001b[43mbin_idxs\u001b[49m\u001b[43m.\u001b[49m\u001b[43mflatten\u001b[49m\u001b[43m(\u001b[49m\u001b[43m)\u001b[49m\u001b[43m,\u001b[49m\u001b[43m \u001b[49m\u001b[43mweights\u001b[49m\u001b[43m=\u001b[49m\u001b[43mweights\u001b[49m\u001b[43m.\u001b[49m\u001b[43mflatten\u001b[49m\u001b[43m(\u001b[49m\u001b[43m)\u001b[49m\u001b[43m)\u001b[49m\n\u001b[32m     91\u001b[39m \u001b[38;5;28;01melse\u001b[39;00m:\n\u001b[32m     92\u001b[39m     histogram_ = np.bincount(bin_idxs.flatten())\n",
      "\u001b[31mValueError\u001b[39m: The weights and list don't have the same length."
     ]
    }
   ],
   "source": [
    "im = cv2.imread(\"vids/basketball/00000001.jpg\")\n",
    "\n",
    "\n",
    "region = [188.62,321.46,194.43,210.61,231.38,212.54,225.57,323.39]\n",
    "\n",
    "if len(region) == 8:\n",
    "    x_ = np.array(region[::2])\n",
    "    y_ = np.array(region[1::2])\n",
    "    region = [np.min(x_), np.min(y_), np.max(x_) - np.min(x_) + 1, np.max(y_) - np.min(y_) + 1]\n",
    "        \n",
    "    position = (region[0] + region[2] / 2, region[1] + region[3] / 2) # X x Y\n",
    "    x = position[0]\n",
    "    y = position[1]\n",
    "\n",
    "    target_width = region[2] if region[2] %2 == 1 else region[2] + 1\n",
    "    target_height = region[3] if region[3] %2 == 1 else region[3] + 1\n",
    "\n",
    "    region_width = (math.floor((region[2] * 1) / 2) * 2) + 1\n",
    "    region_height = (math.floor((region[3] * 1) / 2) * 2) + 1\n",
    "\n",
    "T, q, r, AS, LS, Q_iS, CS, R_iS = NCV()\n",
    "\n",
    "epanechnik_kernel = create_epanechnik_kernel(region_width, region_height, 1)\n",
    "patch, mask = get_patch(im, (x, y), (target_width, target_height))\n",
    "h_tar = extract_histogram(patch, 16)\n",
    "\n",
    "T_val = 1  # time step\n",
    "q_val = 150.0\n",
    "Q_i = np.array(Q_iS.subs({T: T_val, q: q_val}).evalf(), dtype=np.float32)\n",
    "N = 100\n",
    "\n",
    "particles = sample_gauss([x, y, 0, 0], Q_i, N)\n",
    "weights = np.ones(particles.shape[0])/particles.shape[0]\n",
    "\n",
    "plt.imshow(im)\n",
    "plt.scatter(particles[:, 0], particles[:, 1], c=\"r\", s=5)\n",
    "\n",
    "weights_norm = weights/np.sum(weights)\n",
    "weights_cumsumed = np.cumsum(weights_norm)\n",
    "rand_samples = np.random.rand(N, 1)\n",
    "sampled_idxs = np.digitize(rand_samples, weights_cumsumed)\n",
    "particles_new = particles[sampled_idxs.flatten(), :]\n",
    "\n",
    "plt.scatter(particles_new[:, 0], particles[:, 1], c=\"g\", s=5)"
   ]
  },
  {
   "cell_type": "code",
   "execution_count": null,
   "id": "d5ce73fd",
   "metadata": {},
   "outputs": [],
   "source": []
  }
 ],
 "metadata": {
  "kernelspec": {
   "display_name": "ACVM-P1",
   "language": "python",
   "name": "python3"
  },
  "language_info": {
   "codemirror_mode": {
    "name": "ipython",
    "version": 3
   },
   "file_extension": ".py",
   "mimetype": "text/x-python",
   "name": "python",
   "nbconvert_exporter": "python",
   "pygments_lexer": "ipython3",
   "version": "3.13.2"
  }
 },
 "nbformat": 4,
 "nbformat_minor": 5
}
